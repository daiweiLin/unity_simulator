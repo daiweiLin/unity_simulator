{
 "cells": [
  {
   "cell_type": "code",
   "execution_count": 1,
   "metadata": {},
   "outputs": [
    {
     "ename": "NameError",
     "evalue": "name 'file_date' is not defined",
     "output_type": "error",
     "traceback": [
      "\u001b[1;31m---------------------------------------------------------------------------\u001b[0m",
      "\u001b[1;31mNameError\u001b[0m                                 Traceback (most recent call last)",
      "\u001b[1;32m<ipython-input-1-6f60c5b8bd31>\u001b[0m in \u001b[0;36m<module>\u001b[1;34m\u001b[0m\n\u001b[0;32m      6\u001b[0m \u001b[1;33m\u001b[0m\u001b[0m\n\u001b[0;32m      7\u001b[0m \u001b[1;31m# Process log\u001b[0m\u001b[1;33m\u001b[0m\u001b[1;33m\u001b[0m\u001b[1;33m\u001b[0m\u001b[0m\n\u001b[1;32m----> 8\u001b[1;33m \u001b[0mvisitor_log_file\u001b[0m \u001b[1;33m=\u001b[0m \u001b[0mglob\u001b[0m\u001b[1;33m.\u001b[0m\u001b[0mglob\u001b[0m\u001b[1;33m(\u001b[0m\u001b[1;34m\"../SHARCNET/Results/SARA_LED_Multi/\"\u001b[0m\u001b[1;33m+\u001b[0m\u001b[0mfile_date\u001b[0m\u001b[1;33m+\u001b[0m\u001b[1;34m\"/*.out\"\u001b[0m\u001b[1;33m)\u001b[0m\u001b[1;33m\u001b[0m\u001b[1;33m\u001b[0m\u001b[0m\n\u001b[0m\u001b[0;32m      9\u001b[0m \u001b[0mprint\u001b[0m\u001b[1;33m(\u001b[0m\u001b[0mvisitor_log_file\u001b[0m\u001b[1;33m)\u001b[0m\u001b[1;33m\u001b[0m\u001b[1;33m\u001b[0m\u001b[0m\n\u001b[0;32m     10\u001b[0m \u001b[1;32mfor\u001b[0m \u001b[0mlog_file\u001b[0m \u001b[1;32min\u001b[0m \u001b[0mvisitor_log_file\u001b[0m\u001b[1;33m:\u001b[0m\u001b[1;33m\u001b[0m\u001b[1;33m\u001b[0m\u001b[0m\n",
      "\u001b[1;31mNameError\u001b[0m: name 'file_date' is not defined"
     ]
    }
   ],
   "source": [
    "## DEBUG ##\n",
    "# subtract files near the place it breaks\n",
    "import re\n",
    "from collections import deque\n",
    "import glob\n",
    "\n",
    "\n"
   ]
  },
  {
   "cell_type": "code",
   "execution_count": 4,
   "metadata": {},
   "outputs": [],
   "source": [
    "directory = \"../SHARCNET/Results/debug/ddpg/300_300_NN/point25/SARA/\"\n",
    "file_date = \"2019-09-21-143158-1-0\"\n",
    "crash_episode = 9\n",
    "crash_point = crash_episode*25*25/50"
   ]
  },
  {
   "cell_type": "code",
   "execution_count": 5,
   "metadata": {},
   "outputs": [
    {
     "name": "stdout",
     "output_type": "stream",
     "text": [
      "['../SHARCNET/Results/debug/ddpg/300_300_NN/point25/SARA/2019-09-21-143158-1-0\\\\s_sara_19561912ob.out']\n",
      "Record found\n"
     ]
    }
   ],
   "source": [
    "\n",
    "# Process log\n",
    "visitor_log_file = glob.glob(directory+file_date+\"/*.out\")\n",
    "print(visitor_log_file)\n",
    "for log_file in visitor_log_file:\n",
    "    f_in = open(log_file, \"r\")\n",
    "\n",
    "f_out = open(directory + file_date + \"/visitor_log_partial.txt\",\"w\")\n",
    "cnt = 0\n",
    "# skip lines in the header\n",
    "for _ in range(300):\n",
    "    line = f_in.readline()\n",
    "    if 'Loading' in line:\n",
    "        cnt += 1\n",
    "    if cnt >= 25:\n",
    "        break;\n",
    "\n",
    "lines_before = deque(maxlen=100)\n",
    "lines_after = deque(maxlen=100)\n",
    "\n",
    "for line in f_in:\n",
    "    if line.strip():# not empty line    \n",
    "        lines_before.append(line)\n",
    "        x = re.search(\"^\\d+(\\.\\d{1,2})\", line)\n",
    "        if x is not None and float(x[0])>=crash_point: #locate the crash event\n",
    "            print(\"Record found\")\n",
    "            break\n",
    "            \n",
    "for line in f_in:\n",
    "    if line.strip():\n",
    "        lines_after.append(line)\n",
    "    if len(lines_after) >= 100:\n",
    "        break\n",
    "for line in lines_before:\n",
    "    f_out.write(line)\n",
    "for line in lines_after:\n",
    "    f_out.write(line)\n",
    "            \n",
    "        \n",
    "f_in.close()\n",
    "f_out.close()"
   ]
  },
  {
   "cell_type": "code",
   "execution_count": null,
   "metadata": {},
   "outputs": [],
   "source": []
  }
 ],
 "metadata": {
  "kernelspec": {
   "display_name": "Python 3",
   "language": "python",
   "name": "python3"
  },
  "language_info": {
   "codemirror_mode": {
    "name": "ipython",
    "version": 3
   },
   "file_extension": ".py",
   "mimetype": "text/x-python",
   "name": "python",
   "nbconvert_exporter": "python",
   "pygments_lexer": "ipython3",
   "version": "3.6.8"
  }
 },
 "nbformat": 4,
 "nbformat_minor": 2
}
