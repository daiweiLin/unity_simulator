{
 "cells": [
  {
   "cell_type": "code",
   "execution_count": 1,
   "metadata": {},
   "outputs": [],
   "source": [
    "import os\n",
    "import shutil"
   ]
  },
  {
   "cell_type": "code",
   "execution_count": 7,
   "metadata": {},
   "outputs": [
    {
     "data": {
      "text/plain": [
       "'\\nA sample output:\\n\\n\\n#!/bin/bash\\n#SBATCH --array=0-1\\n#SBATCH --mem=2048M\\n#SBATCH -t 1-00:00\\n#SBATCH -o s_sara_%job.out\\n#SBATCH --job-name=p75_single_SARA\\n\\nsource ~/unity_ml/bin/activate\\npython Test_Simulator.py True SARA ddpg 5 $SLURM_ARRAY_TASK_ID\\n\\n'"
      ]
     },
     "execution_count": 7,
     "metadata": {},
     "output_type": "execute_result"
    }
   ],
   "source": [
    "\"\"\"\n",
    "A sample output:\n",
    "\n",
    "\n",
    "#!/bin/bash\n",
    "#SBATCH --array=0-1\n",
    "#SBATCH --mem=2048M\n",
    "#SBATCH -t 1-00:00\n",
    "#SBATCH -o s_sara_%job.out\n",
    "#SBATCH --job-name=p75_single_SARA\n",
    "\n",
    "source ~/unity_ml/bin/activate\n",
    "python Test_Simulator.py True SARA ddpg 5 $SLURM_ARRAY_TASK_ID\n",
    "\n",
    "\"\"\""
   ]
  },
  {
   "cell_type": "code",
   "execution_count": 45,
   "metadata": {},
   "outputs": [],
   "source": [
    "# Constants\n",
    "header = \"#!/bin/bash\"\n",
    "modes = [\"PLA\",\"SARA\",\"Random\"]\n",
    "memories = [1800,2048,875]\n",
    "\n",
    "# Variable\n",
    "time = \"1-00:00\"\n",
    "n_jobs = 2\n",
    "\n",
    "n_visitor = 5\n",
    "visitor_epsilon = 0.3\n",
    "algorithm = \"ddpg\" # td3, ppo\n",
    "\n",
    "intervals = [\"one\",\"point75\",\"point5\",\"point25\",\"point125\"]\n",
    "\n",
    "output_dir = os.path.join(os.path.abspath(\"..\"),\"SHARCNET\",\"shell_scripts\",\"job\")"
   ]
  },
  {
   "cell_type": "code",
   "execution_count": 46,
   "metadata": {},
   "outputs": [],
   "source": [
    "# clean up folder\n",
    "if os.path.exists(output_dir):\n",
    "    shutil.rmtree(output_dir)"
   ]
  },
  {
   "cell_type": "code",
   "execution_count": 47,
   "metadata": {},
   "outputs": [],
   "source": [
    "os.mkdir(output_dir)"
   ]
  },
  {
   "cell_type": "code",
   "execution_count": 48,
   "metadata": {},
   "outputs": [],
   "source": [
    "# Write files\n",
    "\n",
    "for itv in intervals:\n",
    "    output_subdir = os.path.join(output_dir,itv)\n",
    "    os.mkdir(output_subdir)\n",
    "    shellscript_names = []\n",
    "    \n",
    "    for mode, memory in zip(modes,memories):\n",
    "        visitor_mode = \"single\" if n_visitor == 1 else \"multi\"\n",
    "        filename = \"s_\"+visitor_mode+\"_\"+mode.lower()+\".sh\"\n",
    "        shellscript_names.append(filename)\n",
    "        with open(os.path.join(output_subdir,filename), 'w',  newline='\\n') as shellfile:\n",
    "            shellfile.write(header)\n",
    "            shellfile.write(\"\\n\")\n",
    "            shellfile.write(\"#SBATCH --array=0-{}\".format(n_jobs-1))\n",
    "            shellfile.write(\"\\n\")\n",
    "            shellfile.write(\"#SBATCH --mem={}M\".format(memory))\n",
    "            shellfile.write(\"\\n\")\n",
    "            shellfile.write(\"#SBATCH -t {}\".format(time))\n",
    "            shellfile.write(\"\\n\")\n",
    "            shellfile.write(\"#SBATCH -o s_{}_%job.out\".format(mode.lower()))\n",
    "            shellfile.write(\"\\n\")\n",
    "            shellfile.write(\"#SBATCH --job-name={}_{}_{}_{}\".format(itv,visitor_mode,visitor_epsilon,mode.lower()))\n",
    "            shellfile.write(\"\\n\")\n",
    "\n",
    "            shellfile.write(\"source ~/unity_ml/bin/activate\")\n",
    "            shellfile.write(\"\\n\")\n",
    "            shellfile.write(\"python Test_Simulator.py True {} {} {} {} $SLURM_ARRAY_TASK_ID\".format(mode, algorithm, n_visitor, visitor_epsilon))\n",
    "    \n",
    "    with open(os.path.join(output_subdir,\"submit.sh\"), 'w',  newline='\\n') as shellfile:\n",
    "        shellfile.write(header)\n",
    "        shellfile.write(\"\\n\")\n",
    "        for mode, name in zip(modes,shellscript_names):       \n",
    "            shellfile.write(\"echo Submitting {} job\".format(mode) )\n",
    "            shellfile.write(\"\\n\")\n",
    "            shellfile.write(\"sbatch {}\".format(name))\n",
    "            shellfile.write(\"\\n\")"
   ]
  },
  {
   "cell_type": "code",
   "execution_count": null,
   "metadata": {},
   "outputs": [],
   "source": []
  }
 ],
 "metadata": {
  "kernelspec": {
   "display_name": "Python 3",
   "language": "python",
   "name": "python3"
  },
  "language_info": {
   "codemirror_mode": {
    "name": "ipython",
    "version": 3
   },
   "file_extension": ".py",
   "mimetype": "text/x-python",
   "name": "python",
   "nbconvert_exporter": "python",
   "pygments_lexer": "ipython3",
   "version": "3.6.8"
  }
 },
 "nbformat": 4,
 "nbformat_minor": 2
}
