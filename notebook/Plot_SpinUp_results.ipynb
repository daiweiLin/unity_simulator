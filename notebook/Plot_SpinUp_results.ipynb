{
 "cells": [
  {
   "cell_type": "code",
   "execution_count": 7,
   "metadata": {},
   "outputs": [],
   "source": [
    "import numpy as np\n",
    "import pandas as pd\n",
    "\n",
    "import matplotlib.pyplot as plt\n",
    "%matplotlib inline"
   ]
  },
  {
   "cell_type": "markdown",
   "metadata": {},
   "source": [
    "### 1. return"
   ]
  },
  {
   "cell_type": "code",
   "execution_count": 53,
   "metadata": {},
   "outputs": [
    {
     "name": "stdout",
     "output_type": "stream",
     "text": [
      "SARA: 1 files found\n",
      "../SHARCNET/Results/multi/ppo/64_64_NN/point75/SARA\\2019-09-26-025219-1-2\\ppo\\ppo_s0\\progress.txt\n",
      "PLA: 0 files found\n"
     ]
    }
   ],
   "source": [
    "# INSTRUCTION:\n",
    "# change itv to generate results for 0.125, 0.25 ...\n",
    "# change algorithm to either td3 or ppo\n",
    "#----------------------------------------------------\n",
    "\n",
    "import glob\n",
    "interval = [\"point125\",\"point25\",\"point5\",\"point75\"]\n",
    "itv = interval[3]\n",
    "algorithm = \"ppo\" # \"ppo\"\n",
    "visitors = \"multi\"  # single\n",
    "network = \"64_64_NN\" # 300_NN or 64_64_NN or 300_300_NN\n",
    "txt_dir = \"../SHARCNET/Results/\"+visitors+\"/\"+algorithm+\"/\"+network+\"/\"+itv+\"/\"\n",
    "pic_dir = \"./plots_for_thesis/\"+visitors+\"/\"+algorithm+\"/\"+network+\"/\"\n",
    "modes = [\"SARA\",\"PLA\"]\n",
    "all_data_files = dict()\n",
    "for mode in modes:\n",
    "    mode_data_files = glob.glob(txt_dir+ mode + \"/**/\" +\"*.txt\", recursive=True)\n",
    "    mode_data_files.sort()\n",
    "    print(\"{}: {} files found\".format(mode,len(mode_data_files)))\n",
    "    for f in mode_data_files:\n",
    "        print(f)\n",
    "    all_data_files[mode]=mode_data_files"
   ]
  },
  {
   "cell_type": "code",
   "execution_count": 54,
   "metadata": {},
   "outputs": [],
   "source": [
    "all_combined_data = dict()\n",
    "if algorithm == \"ppo\":\n",
    "    metrics = [\"AverageEpRet\", \"AverageVVals\"]\n",
    "    col_names = [\"return\", \"V_means\"]\n",
    "else:\n",
    "    metrics = [\"AverageEpRet\", \"AverageQ1Vals\", \"AverageQ2Vals\"]\n",
    "    col_names = [\"return\",\"Q1_means\",\"Q2_means\"]\n",
    "for mode in modes:\n",
    "\n",
    "    mode_data = []\n",
    "    for file in all_data_files[mode]:\n",
    "        mode_data.append(pd.read_csv(file, sep=\"\\t\"))\n",
    "    \n",
    "    mode_combined_data = pd.DataFrame()\n",
    "    for metric, col_name in zip(metrics, col_names):\n",
    "        metric_combined_data = pd.DataFrame()\n",
    "        for i in range(len(all_data_files[mode])):\n",
    "            metric_combined_data[col_name+\"_run\"+str(i)] = mode_data[i][metric]\n",
    "        metric_combined_data[col_name+\"_avg\"] = metric_combined_data.mean(axis=1)\n",
    "        metric_combined_data[col_name+'_std'] = metric_combined_data.std(axis=1)\n",
    "        \n",
    "        mode_combined_data = pd.concat([mode_combined_data,metric_combined_data],axis=1)\n",
    "    all_combined_data[mode] = mode_combined_data"
   ]
  },
  {
   "cell_type": "code",
   "execution_count": 55,
   "metadata": {
    "scrolled": true
   },
   "outputs": [
    {
     "data": {
      "text/html": [
       "<div>\n",
       "<style scoped>\n",
       "    .dataframe tbody tr th:only-of-type {\n",
       "        vertical-align: middle;\n",
       "    }\n",
       "\n",
       "    .dataframe tbody tr th {\n",
       "        vertical-align: top;\n",
       "    }\n",
       "\n",
       "    .dataframe thead th {\n",
       "        text-align: right;\n",
       "    }\n",
       "</style>\n",
       "<table border=\"1\" class=\"dataframe\">\n",
       "  <thead>\n",
       "    <tr style=\"text-align: right;\">\n",
       "      <th></th>\n",
       "      <th>return_avg</th>\n",
       "      <th>return_std</th>\n",
       "      <th>V_means_avg</th>\n",
       "      <th>V_means_std</th>\n",
       "    </tr>\n",
       "  </thead>\n",
       "  <tbody>\n",
       "  </tbody>\n",
       "</table>\n",
       "</div>"
      ],
      "text/plain": [
       "Empty DataFrame\n",
       "Columns: [return_avg, return_std, V_means_avg, V_means_std]\n",
       "Index: []"
      ]
     },
     "execution_count": 55,
     "metadata": {},
     "output_type": "execute_result"
    }
   ],
   "source": [
    "all_combined_data['PLA']"
   ]
  },
  {
   "cell_type": "code",
   "execution_count": 56,
   "metadata": {},
   "outputs": [
    {
     "name": "stdout",
     "output_type": "stream",
     "text": [
      "No data from PLA\n"
     ]
    },
    {
     "data": {
      "image/png": "[encoded data removed]",
      "text/plain": [
       "<Figure size 432x288 with 1 Axes>"
      ]
     },
     "metadata": {
      "needs_background": "light"
     },
     "output_type": "display_data"
    }
   ],
   "source": [
    "# Plot return\n",
    "colors = ['r','g','b']\n",
    "metric = \"return\"\n",
    "modes = [\"SARA\",\"PLA\"]\n",
    "for mode, c in zip(modes, colors):\n",
    "\n",
    "    data = all_combined_data[mode]\n",
    "    length = data.shape[0]\n",
    "    if length == 0:\n",
    "        print(\"No data from {}\".format(mode))\n",
    "        continue\n",
    "    label = \"[0, \"+itv.replace(\"point\",\"0.\")+\"]\"\n",
    "    \n",
    "    plt.figure()\n",
    "    plt.grid()\n",
    "    plt.fill_between(data.index, data[metric+\"_avg\"] - data[metric+\"_std\"],\n",
    "                 data[metric+'_avg'] + data[metric+'_std'], alpha=0.2,\n",
    "                 color=c)\n",
    "    plt.plot(data.index, data[metric+'_avg'], '-', color=c,\n",
    "         label=label)\n",
    "    plt.legend(loc=\"best\")\n",
    "    plt.ylim([0,100])\n",
    "    plt.title('{} {}'.format(mode,metric))\n",
    "    plt.xlabel(\"epoch\")\n",
    "    plt.ylabel(\"reward\")\n",
    "    plt.savefig(pic_dir+\"{}_{}_{}.png\".format(itv,mode,metric), bbox_inches='tight')\n",
    "    \n",
    "#     plt.figure()\n",
    "#     plt.grid()\n",
    "#     for i in range(4):\n",
    "#         plt.plot(data.index, data[metric+'_run'+str(i)], '-', label=label)\n"
   ]
  },
  {
   "cell_type": "markdown",
   "metadata": {},
   "source": [
    "### 2. V_mean"
   ]
  },
  {
   "cell_type": "code",
   "execution_count": 57,
   "metadata": {},
   "outputs": [
    {
     "name": "stdout",
     "output_type": "stream",
     "text": [
      "No data from PLA\n"
     ]
    },
    {
     "data": {
      "image/png": "[encoded data removed]",
      "text/plain": [
       "<Figure size 432x288 with 1 Axes>"
      ]
     },
     "metadata": {
      "needs_background": "light"
     },
     "output_type": "display_data"
    }
   ],
   "source": [
    "colors = ['r','g','b']\n",
    "metric = \"V_means\"\n",
    "modes = [\"SARA\",\"PLA\"]\n",
    "for mode, c in zip(modes, colors):\n",
    "\n",
    "    data = all_combined_data[mode]\n",
    "    length = data.shape[0]\n",
    "    if length == 0:\n",
    "        print(\"No data from {}\".format(mode))\n",
    "        continue\n",
    "    label = \"[0, \"+itv.replace(\"point\",\"0.\")+\"]\"\n",
    "    \n",
    "    plt.figure()\n",
    "    plt.grid()\n",
    "    plt.fill_between(np.linspace(1,1000,length), data[metric+\"_avg\"] - data[metric+\"_std\"],\n",
    "                 data[metric+'_avg'] + data[metric+'_std'], alpha=0.2,\n",
    "                 color=c)\n",
    "    plt.plot(np.linspace(1,1000,length), data[metric+'_avg'], '-', color=c,\n",
    "         label=label)\n",
    "    plt.legend(loc=\"best\")\n",
    "#     plt.ylim([0,27])\n",
    "    plt.title('{} {}'.format(mode,metric))\n",
    "    plt.xlabel(\"epoch\")\n",
    "    plt.ylabel(\"Q_mean\")\n",
    "    plt.savefig(pic_dir+'/{}_{}_{}.png'.format(itv,mode,metric), bbox_inches='tight')\n",
    "    "
   ]
  },
  {
   "cell_type": "code",
   "execution_count": 49,
   "metadata": {},
   "outputs": [
    {
     "data": {
      "text/plain": [
       "(0, 4)"
      ]
     },
     "execution_count": 49,
     "metadata": {},
     "output_type": "execute_result"
    }
   ],
   "source": []
  },
  {
   "cell_type": "code",
   "execution_count": null,
   "metadata": {},
   "outputs": [],
   "source": []
  },
  {
   "cell_type": "code",
   "execution_count": null,
   "metadata": {},
   "outputs": [],
   "source": []
  },
  {
   "cell_type": "code",
   "execution_count": null,
   "metadata": {},
   "outputs": [],
   "source": []
  }
 ],
 "metadata": {
  "kernelspec": {
   "display_name": "Python 3",
   "language": "python",
   "name": "python3"
  },
  "language_info": {
   "codemirror_mode": {
    "name": "ipython",
    "version": 3
   },
   "file_extension": ".py",
   "mimetype": "text/x-python",
   "name": "python",
   "nbconvert_exporter": "python",
   "pygments_lexer": "ipython3",
   "version": "3.6.8"
  }
 },
 "nbformat": 4,
 "nbformat_minor": 2
}
